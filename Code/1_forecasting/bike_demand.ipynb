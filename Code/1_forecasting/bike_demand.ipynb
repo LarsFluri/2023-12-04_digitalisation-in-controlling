{
 "cells": [
  {
   "cell_type": "markdown",
   "metadata": {},
   "source": [
    "# Schätzung der Nachfrage nach Fahrrädern\n",
    "\n",
    "Als erste praktische Applikation schätzen wir in einer Fallstudie die Nachfrage nach Fahrrädern. "
   ]
  },
  {
   "cell_type": "code",
   "execution_count": 2,
   "metadata": {},
   "outputs": [],
   "source": [
    "# library imports\n",
    "# %pip install os-sys\n",
    "\n",
    "import numpy as np\n",
    "import matplotlib.pyplot as plt\n",
    "import pandas as pd\n",
    "import seaborn as sns\n",
    "import warnings\n",
    "import statsmodels.api as sm\n",
    "\n",
    "#own imports\n",
    "import sys\n",
    "import os\n",
    "warnings.filterwarnings(\"ignore\")\n",
    "#imported different libraries where we will be working with.\n",
    "if not sys.warnoptions:\n",
    "    warnings.simplefilter(\"ignore\")\n",
    "np.random.seed(42)\n",
    "\n",
    "\n",
    "\n",
    "# Get the current script's directory\n",
    "notebook_path = os.path.dirname(os.path.abspath(\"__file__\"))\n",
    "\n",
    "# Add the parent directory to sys.path\n",
    "parent_dir = os.path.dirname(notebook_path)\n",
    "if parent_dir not in sys.path:\n",
    "    sys.path.insert(0, parent_dir)\n",
    "\n",
    "# Now you should be able to import your module\n",
    "import fhnw_colourmap"
   ]
  },
  {
   "cell_type": "markdown",
   "metadata": {},
   "source": [
    "### Laden des Datensatzes und EDA (Exploratory Data Analysis)\n",
    "Nachdem wir den Datensatz geladen haben, können wir uns einen ersten Überblick über den Datensatz verschaffen."
   ]
  },
  {
   "cell_type": "code",
   "execution_count": 3,
   "metadata": {},
   "outputs": [
    {
     "data": {
      "text/html": [
       "<div>\n",
       "<style scoped>\n",
       "    .dataframe tbody tr th:only-of-type {\n",
       "        vertical-align: middle;\n",
       "    }\n",
       "\n",
       "    .dataframe tbody tr th {\n",
       "        vertical-align: top;\n",
       "    }\n",
       "\n",
       "    .dataframe thead th {\n",
       "        text-align: right;\n",
       "    }\n",
       "</style>\n",
       "<table border=\"1\" class=\"dataframe\">\n",
       "  <thead>\n",
       "    <tr style=\"text-align: right;\">\n",
       "      <th></th>\n",
       "      <th>Date</th>\n",
       "      <th>Rented Bike Count</th>\n",
       "      <th>Hour</th>\n",
       "      <th>Temperature(°C)</th>\n",
       "      <th>Humidity(%)</th>\n",
       "      <th>Wind speed (m/s)</th>\n",
       "      <th>Visibility (10m)</th>\n",
       "      <th>Dew point temperature(°C)</th>\n",
       "      <th>Solar Radiation (MJ/m2)</th>\n",
       "      <th>Rainfall(mm)</th>\n",
       "      <th>Snowfall (cm)</th>\n",
       "      <th>Seasons</th>\n",
       "      <th>Holiday</th>\n",
       "      <th>Functioning Day</th>\n",
       "    </tr>\n",
       "  </thead>\n",
       "  <tbody>\n",
       "    <tr>\n",
       "      <th>0</th>\n",
       "      <td>2017-01-12</td>\n",
       "      <td>254</td>\n",
       "      <td>0</td>\n",
       "      <td>-5.2</td>\n",
       "      <td>37</td>\n",
       "      <td>2.2</td>\n",
       "      <td>2000</td>\n",
       "      <td>-17.6</td>\n",
       "      <td>0.0</td>\n",
       "      <td>0.0</td>\n",
       "      <td>0.0</td>\n",
       "      <td>Winter</td>\n",
       "      <td>No Holiday</td>\n",
       "      <td>Yes</td>\n",
       "    </tr>\n",
       "    <tr>\n",
       "      <th>1</th>\n",
       "      <td>2017-01-12</td>\n",
       "      <td>204</td>\n",
       "      <td>1</td>\n",
       "      <td>-5.5</td>\n",
       "      <td>38</td>\n",
       "      <td>0.8</td>\n",
       "      <td>2000</td>\n",
       "      <td>-17.6</td>\n",
       "      <td>0.0</td>\n",
       "      <td>0.0</td>\n",
       "      <td>0.0</td>\n",
       "      <td>Winter</td>\n",
       "      <td>No Holiday</td>\n",
       "      <td>Yes</td>\n",
       "    </tr>\n",
       "    <tr>\n",
       "      <th>2</th>\n",
       "      <td>2017-01-12</td>\n",
       "      <td>173</td>\n",
       "      <td>2</td>\n",
       "      <td>-6.0</td>\n",
       "      <td>39</td>\n",
       "      <td>1.0</td>\n",
       "      <td>2000</td>\n",
       "      <td>-17.7</td>\n",
       "      <td>0.0</td>\n",
       "      <td>0.0</td>\n",
       "      <td>0.0</td>\n",
       "      <td>Winter</td>\n",
       "      <td>No Holiday</td>\n",
       "      <td>Yes</td>\n",
       "    </tr>\n",
       "    <tr>\n",
       "      <th>3</th>\n",
       "      <td>2017-01-12</td>\n",
       "      <td>107</td>\n",
       "      <td>3</td>\n",
       "      <td>-6.2</td>\n",
       "      <td>40</td>\n",
       "      <td>0.9</td>\n",
       "      <td>2000</td>\n",
       "      <td>-17.6</td>\n",
       "      <td>0.0</td>\n",
       "      <td>0.0</td>\n",
       "      <td>0.0</td>\n",
       "      <td>Winter</td>\n",
       "      <td>No Holiday</td>\n",
       "      <td>Yes</td>\n",
       "    </tr>\n",
       "    <tr>\n",
       "      <th>4</th>\n",
       "      <td>2017-01-12</td>\n",
       "      <td>78</td>\n",
       "      <td>4</td>\n",
       "      <td>-6.0</td>\n",
       "      <td>36</td>\n",
       "      <td>2.3</td>\n",
       "      <td>2000</td>\n",
       "      <td>-18.6</td>\n",
       "      <td>0.0</td>\n",
       "      <td>0.0</td>\n",
       "      <td>0.0</td>\n",
       "      <td>Winter</td>\n",
       "      <td>No Holiday</td>\n",
       "      <td>Yes</td>\n",
       "    </tr>\n",
       "  </tbody>\n",
       "</table>\n",
       "</div>"
      ],
      "text/plain": [
       "        Date  Rented Bike Count  Hour  Temperature(°C)  Humidity(%)  \\\n",
       "0 2017-01-12                254     0             -5.2           37   \n",
       "1 2017-01-12                204     1             -5.5           38   \n",
       "2 2017-01-12                173     2             -6.0           39   \n",
       "3 2017-01-12                107     3             -6.2           40   \n",
       "4 2017-01-12                 78     4             -6.0           36   \n",
       "\n",
       "   Wind speed (m/s)  Visibility (10m)  Dew point temperature(°C)  \\\n",
       "0               2.2              2000                      -17.6   \n",
       "1               0.8              2000                      -17.6   \n",
       "2               1.0              2000                      -17.7   \n",
       "3               0.9              2000                      -17.6   \n",
       "4               2.3              2000                      -18.6   \n",
       "\n",
       "   Solar Radiation (MJ/m2)  Rainfall(mm)  Snowfall (cm) Seasons     Holiday  \\\n",
       "0                      0.0           0.0            0.0  Winter  No Holiday   \n",
       "1                      0.0           0.0            0.0  Winter  No Holiday   \n",
       "2                      0.0           0.0            0.0  Winter  No Holiday   \n",
       "3                      0.0           0.0            0.0  Winter  No Holiday   \n",
       "4                      0.0           0.0            0.0  Winter  No Holiday   \n",
       "\n",
       "  Functioning Day  \n",
       "0             Yes  \n",
       "1             Yes  \n",
       "2             Yes  \n",
       "3             Yes  \n",
       "4             Yes  "
      ]
     },
     "execution_count": 3,
     "metadata": {},
     "output_type": "execute_result"
    }
   ],
   "source": [
    "df=pd.read_csv('data/SeoulBikeData.csv',encoding= 'unicode_escape',parse_dates=[0])\n",
    "\n",
    "df.head(5)"
   ]
  },
  {
   "cell_type": "markdown",
   "metadata": {},
   "source": [
    "### Erste Datenmanipulationen\n",
    "\n",
    "Als Erstes möchten wir die Datentypen und Namen gewisser Merkmale ändern."
   ]
  },
  {
   "cell_type": "code",
   "execution_count": 4,
   "metadata": {},
   "outputs": [],
   "source": [
    "\n",
    "#change the data type\n",
    "df=df.astype({'Rented Bike Count':'float','Hour':'object'})\n",
    "\n",
    "#rename the variable names\n",
    "df=df.rename(columns={'Temperature(°C)':'Temperature',\n",
    "                      'Humidity(%)':'Humidity',\n",
    "                      'Rainfall(mm)':'Rainfall',\n",
    "                      'Snowfall (cm)':'Snowfall',\n",
    "                      'Wind speed (m/s)':'Wind speed',\n",
    "                      'Visibility (10m)':'Visibility',\n",
    "                      'Solar Radiation (MJ/m2)':'Radiation',\n",
    "                      'Dew point temperature(°C)':'Dew point temperature'})\n",
    "\n",
    "# get another overview \n",
    "df.describe()\n",
    "\n",
    "df_orig = df"
   ]
  },
  {
   "cell_type": "markdown",
   "metadata": {},
   "source": [
    "### Analyse der Werteverteilun\n",
    "\n",
    "Wir verschaffen uns einen Überblick über die Anzahl einzigartiger Werte im Datensatz. "
   ]
  },
  {
   "cell_type": "code",
   "execution_count": 5,
   "metadata": {},
   "outputs": [
    {
     "data": {
      "text/plain": [
       "Holiday                     2\n",
       "Functioning Day             2\n",
       "Seasons                     4\n",
       "Hour                       24\n",
       "Snowfall                   51\n",
       "Rainfall                   61\n",
       "Wind speed                 65\n",
       "Humidity                   90\n",
       "Radiation                 345\n",
       "Date                      365\n",
       "Temperature               546\n",
       "Dew point temperature     556\n",
       "Visibility               1789\n",
       "Rented Bike Count        2166\n",
       "dtype: int64"
      ]
     },
     "execution_count": 5,
     "metadata": {},
     "output_type": "execute_result"
    }
   ],
   "source": [
    "df.nunique().sort_values(ascending=True)"
   ]
  },
  {
   "cell_type": "markdown",
   "metadata": {},
   "source": [
    "# Analyse von fehlenden Beobachtungen\n",
    "\n",
    "Wir sehen, dass die Daten glücklicherweise keine fehlenden Werte aufweisen. Dies erleichtert uns die Analyse erheblich."
   ]
  },
  {
   "cell_type": "code",
   "execution_count": 6,
   "metadata": {},
   "outputs": [
    {
     "data": {
      "text/plain": [
       "Date                     0\n",
       "Rented Bike Count        0\n",
       "Hour                     0\n",
       "Temperature              0\n",
       "Humidity                 0\n",
       "Wind speed               0\n",
       "Visibility               0\n",
       "Dew point temperature    0\n",
       "Radiation                0\n",
       "Rainfall                 0\n",
       "Snowfall                 0\n",
       "Seasons                  0\n",
       "Holiday                  0\n",
       "Functioning Day          0\n",
       "dtype: int64"
      ]
     },
     "execution_count": 6,
     "metadata": {},
     "output_type": "execute_result"
    }
   ],
   "source": [
    "# missing values anschauen\n",
    "df.isnull().sum()"
   ]
  },
  {
   "cell_type": "markdown",
   "metadata": {},
   "source": [
    "## Datenvisualisierung\n",
    "\n",
    "In einem nächsten Schritt möchten wir die Verteilung der Merkmale graphisch beurteilen."
   ]
  },
  {
   "cell_type": "code",
   "execution_count": 7,
   "metadata": {},
   "outputs": [
    {
     "data": {
      "image/png": "[encoded data removed]",
      "text/plain": [
       "<Figure size 1296x1296 with 9 Axes>"
      ]
     },
     "metadata": {
      "needs_background": "light"
     },
     "output_type": "display_data"
    }
   ],
   "source": [
    "import matplotlib.pyplot as plt\n",
    "\n",
    "plt.figure(figsize=(18, 18))\n",
    "for i, col in enumerate(df.select_dtypes(include=['float64','int']).columns):\n",
    "    ax = plt.subplot(4,3, i+1)\n",
    "    sns.barplot(data=df,x='Hour', y=col, ax=ax, palette= fhnw_colourmap.rgb_colors)\n",
    "plt.suptitle('Data distribution of continuous variables')\n",
    "plt.tight_layout()"
   ]
  },
  {
   "cell_type": "markdown",
   "metadata": {},
   "source": [
    "### Power Transformation \n",
    "\n",
    "Die Power Transformation ermöglicht uns, dass die Merkmale näher an einer Normalverteilung sind. Der Vorteil ist, dass die Daten somit besser verarbeitbar sind."
   ]
  },
  {
   "cell_type": "code",
   "execution_count": 8,
   "metadata": {},
   "outputs": [],
   "source": [
    "#selecting variables that have data types float and int.\n",
    "var=list(df.select_dtypes(include=['float64','int64']).columns)\n",
    "from sklearn.preprocessing import PowerTransformer\n",
    "sc_X=PowerTransformer(method = 'yeo-johnson')\n",
    "df[var]=sc_X.fit_transform(df[var])"
   ]
  },
  {
   "cell_type": "markdown",
   "metadata": {},
   "source": [
    "### Korrelationen\n",
    "\n",
    "Als Nächstes analysieren wir die Korrelation zwischen den Merkmalen.\n",
    "\n"
   ]
  },
  {
   "cell_type": "code",
   "execution_count": 9,
   "metadata": {},
   "outputs": [
    {
     "data": {
      "image/png": "[encoded data removed]",
      "text/plain": [
       "<Figure size 576x576 with 2 Axes>"
      ]
     },
     "metadata": {
      "needs_background": "light"
     },
     "output_type": "display_data"
    }
   ],
   "source": [
    "plt.figure(figsize=(8,8))\n",
    "sns.heatmap(df.select_dtypes(include=['float']).corr(),annot=True,center = 0, cmap = fhnw_colourmap.fhnw_colourmap)\n",
    "plt.show()"
   ]
  },
  {
   "cell_type": "markdown",
   "metadata": {},
   "source": [
    "## Predictive Data Analysis (PDA)\n",
    "\n",
    "Da wir einen ersten Überblick über unsere Daten erhalten haben, können wir in einem nächsten Schritt ein Prognosemodell entwerfen. Hierfür sind die folgenden Schritte nötig:\n",
    "- Vorbereitung der Daten: Scaling, Test/Training Split\n",
    "- Trainieren des Modells\n",
    "- Testen des Modells"
   ]
  },
  {
   "cell_type": "markdown",
   "metadata": {},
   "source": [
    "## Feature Scaling\n",
    "\n",
    "Wir teilen die Daten in X (unsere Merkmale) und y (unsere Zielvariable). Die Merkmale nutzen wir, um unsere Zielvariable y zu schätzen.\n"
   ]
  },
  {
   "cell_type": "code",
   "execution_count": 10,
   "metadata": {},
   "outputs": [],
   "source": [
    "df=pd.get_dummies(df,columns=['Holiday','Seasons','Functioning Day','Hour'],drop_first=True)\n",
    "# split into target (y) and features (X)\n",
    "X=df.iloc[:,2:]\n",
    "y=df.iloc[:,1]"
   ]
  },
  {
   "cell_type": "markdown",
   "metadata": {},
   "source": [
    "Wir teilen die Daten als Nächstes in Training- und Testdaten ein. 80% verwenden wir für Training, 20% für Testing. \n",
    "\n",
    "Wir wenden auch einen sogenannten Standard-Scaler ein, damit sich unsere Daten zwischen [-1,1] befinden. Der Grund hierfür ist, dass unterschiedliche Skalen der Merkmale das Modelltraining erschweren."
   ]
  },
  {
   "cell_type": "code",
   "execution_count": 11,
   "metadata": {},
   "outputs": [],
   "source": [
    "from sklearn.model_selection import train_test_split\n",
    "\n",
    "#splitting our dataset in 80% training and 20% testset\n",
    "X_train,X_test,y_train,y_test=train_test_split(X,y,test_size=0.30,random_state=0)\n",
    "from sklearn.preprocessing import StandardScaler\n",
    "sc=StandardScaler()\n",
    "X_train=sc.fit_transform(X_train)\n",
    "X_test=sc.transform(X_test)"
   ]
  },
  {
   "cell_type": "markdown",
   "metadata": {},
   "source": [
    "## Auswahl und Import von verschiedensten Regressionsmodellen\n",
    "\n",
    "Wir wählen nun Schätzmodelle aus, welche wir für die Prognose verwenden möchten. Wir trainieren folgende Modelle:\n",
    "\n",
    "- Lineare Regression\n",
    "- Polynomregression\n",
    "- Decision Trees\n",
    "- Random Forests "
   ]
  },
  {
   "cell_type": "code",
   "execution_count": 12,
   "metadata": {},
   "outputs": [],
   "source": [
    "#importing different Regression models\n",
    "from sklearn.linear_model import LinearRegression\n",
    "from sklearn.metrics import r2_score\n",
    "from sklearn.metrics import mean_squared_error\n",
    "from sklearn.preprocessing import PolynomialFeatures\n",
    "from sklearn.tree import DecisionTreeRegressor\n",
    "from sklearn.ensemble import RandomForestRegressor\n",
    "from sklearn.ensemble import BaggingRegressor\n",
    "from sklearn.ensemble import StackingRegressor\n",
    "from sklearn.model_selection import cross_val_score\n",
    "\n",
    "#creating dictionary for storing different models accuracy\n",
    "model_comparison={}"
   ]
  },
  {
   "cell_type": "markdown",
   "metadata": {},
   "source": [
    "### Lineare Regression\n",
    "\n",
    "Wir trainieren als Erstes ein lineares Modell. Wir gehen also davon aus, dass die Beziehung zwischen Merkmalen und der Zielvariablen linear ist. "
   ]
  },
  {
   "cell_type": "code",
   "execution_count": 13,
   "metadata": {},
   "outputs": [
    {
     "name": "stdout",
     "output_type": "stream",
     "text": [
      "Model R-Square : 80.83%\n",
      "Model MSE : 19.10%\n",
      "Cross Val Accuracy: 80.38 %\n",
      "Cross Val Standard Deviation: 0.60 %\n"
     ]
    }
   ],
   "source": [
    "model=LinearRegression()\n",
    "model.fit(X_train,y_train)\n",
    "y_pred=model.predict(X_test)\n",
    "print(f\"Model R-Square : {r2_score(y_test,y_pred)*100:.2f}%\")\n",
    "print(f\"Model MSE : {mean_squared_error(y_test,y_pred)*100:.2f}%\")\n",
    "accuracies = cross_val_score(estimator = model, X = X_train, y = y_train, cv = 5)\n",
    "print(\"Cross Val Accuracy: {:.2f} %\".format(accuracies.mean()*100))\n",
    "print(\"Cross Val Standard Deviation: {:.2f} %\".format(accuracies.std()*100))\n",
    "model_comparison['Linear Regression']=[r2_score(y_test,y_pred),mean_squared_error(y_test,y_pred),(accuracies.mean()),(accuracies.std())]"
   ]
  },
  {
   "cell_type": "markdown",
   "metadata": {},
   "source": [
    "Wir haben das Modell auf unseren Trainingsdaten trainiert und können und nun die Zusammenfassung der Regression anschauen:"
   ]
  },
  {
   "cell_type": "code",
   "execution_count": 14,
   "metadata": {},
   "outputs": [
    {
     "data": {
      "text/html": [
       "<table class=\"simpletable\">\n",
       "<caption>OLS Regression Results</caption>\n",
       "<tr>\n",
       "  <th>Dep. Variable:</th>    <td>Rented Bike Count</td> <th>  R-squared (uncentered):</th>      <td>   0.807</td>\n",
       "</tr>\n",
       "<tr>\n",
       "  <th>Model:</th>                   <td>OLS</td>        <th>  Adj. R-squared (uncentered):</th> <td>   0.806</td>\n",
       "</tr>\n",
       "<tr>\n",
       "  <th>Method:</th>             <td>Least Squares</td>   <th>  F-statistic:       </th>          <td>   707.7</td>\n",
       "</tr>\n",
       "<tr>\n",
       "  <th>Date:</th>             <td>Wed, 29 Nov 2023</td>  <th>  Prob (F-statistic):</th>           <td>  0.00</td> \n",
       "</tr>\n",
       "<tr>\n",
       "  <th>Time:</th>                 <td>14:34:30</td>      <th>  Log-Likelihood:    </th>          <td> -3662.5</td>\n",
       "</tr>\n",
       "<tr>\n",
       "  <th>No. Observations:</th>      <td>  6132</td>       <th>  AIC:               </th>          <td>   7397.</td>\n",
       "</tr>\n",
       "<tr>\n",
       "  <th>Df Residuals:</th>          <td>  6096</td>       <th>  BIC:               </th>          <td>   7639.</td>\n",
       "</tr>\n",
       "<tr>\n",
       "  <th>Df Model:</th>              <td>    36</td>       <th>                     </th>              <td> </td>   \n",
       "</tr>\n",
       "<tr>\n",
       "  <th>Covariance Type:</th>      <td>nonrobust</td>     <th>                     </th>              <td> </td>   \n",
       "</tr>\n",
       "</table>\n",
       "<table class=\"simpletable\">\n",
       "<tr>\n",
       "   <td></td>      <th>coef</th>     <th>std err</th>      <th>t</th>      <th>P>|t|</th>  <th>[0.025</th>    <th>0.975]</th>  \n",
       "</tr>\n",
       "<tr>\n",
       "  <th>x1</th>  <td>    0.5063</td> <td>    0.046</td> <td>   10.952</td> <td> 0.000</td> <td>    0.416</td> <td>    0.597</td>\n",
       "</tr>\n",
       "<tr>\n",
       "  <th>x2</th>  <td>   -0.0502</td> <td>    0.023</td> <td>   -2.191</td> <td> 0.028</td> <td>   -0.095</td> <td>   -0.005</td>\n",
       "</tr>\n",
       "<tr>\n",
       "  <th>x3</th>  <td>   -0.0194</td> <td>    0.007</td> <td>   -2.874</td> <td> 0.004</td> <td>   -0.033</td> <td>   -0.006</td>\n",
       "</tr>\n",
       "<tr>\n",
       "  <th>x4</th>  <td>    0.0131</td> <td>    0.007</td> <td>    1.763</td> <td> 0.078</td> <td>   -0.001</td> <td>    0.028</td>\n",
       "</tr>\n",
       "<tr>\n",
       "  <th>x5</th>  <td>   -0.1734</td> <td>    0.053</td> <td>   -3.287</td> <td> 0.001</td> <td>   -0.277</td> <td>   -0.070</td>\n",
       "</tr>\n",
       "<tr>\n",
       "  <th>x6</th>  <td>    0.2249</td> <td>    0.017</td> <td>   13.325</td> <td> 0.000</td> <td>    0.192</td> <td>    0.258</td>\n",
       "</tr>\n",
       "<tr>\n",
       "  <th>x7</th>  <td>   -0.2606</td> <td>    0.006</td> <td>  -41.074</td> <td> 0.000</td> <td>   -0.273</td> <td>   -0.248</td>\n",
       "</tr>\n",
       "<tr>\n",
       "  <th>x8</th>  <td>   -0.0010</td> <td>    0.006</td> <td>   -0.169</td> <td> 0.866</td> <td>   -0.013</td> <td>    0.011</td>\n",
       "</tr>\n",
       "<tr>\n",
       "  <th>x9</th>  <td>    0.0516</td> <td>    0.006</td> <td>    9.042</td> <td> 0.000</td> <td>    0.040</td> <td>    0.063</td>\n",
       "</tr>\n",
       "<tr>\n",
       "  <th>x10</th> <td>   -0.1039</td> <td>    0.007</td> <td>  -13.964</td> <td> 0.000</td> <td>   -0.118</td> <td>   -0.089</td>\n",
       "</tr>\n",
       "<tr>\n",
       "  <th>x11</th> <td>   -0.0845</td> <td>    0.010</td> <td>   -8.596</td> <td> 0.000</td> <td>   -0.104</td> <td>   -0.065</td>\n",
       "</tr>\n",
       "<tr>\n",
       "  <th>x12</th> <td>   -0.2654</td> <td>    0.011</td> <td>  -25.015</td> <td> 0.000</td> <td>   -0.286</td> <td>   -0.245</td>\n",
       "</tr>\n",
       "<tr>\n",
       "  <th>x13</th> <td>    0.4645</td> <td>    0.006</td> <td>   79.227</td> <td> 0.000</td> <td>    0.453</td> <td>    0.476</td>\n",
       "</tr>\n",
       "<tr>\n",
       "  <th>x14</th> <td>   -0.0427</td> <td>    0.008</td> <td>   -5.451</td> <td> 0.000</td> <td>   -0.058</td> <td>   -0.027</td>\n",
       "</tr>\n",
       "<tr>\n",
       "  <th>x15</th> <td>   -0.0905</td> <td>    0.008</td> <td>  -11.476</td> <td> 0.000</td> <td>   -0.106</td> <td>   -0.075</td>\n",
       "</tr>\n",
       "<tr>\n",
       "  <th>x16</th> <td>   -0.1207</td> <td>    0.008</td> <td>  -15.403</td> <td> 0.000</td> <td>   -0.136</td> <td>   -0.105</td>\n",
       "</tr>\n",
       "<tr>\n",
       "  <th>x17</th> <td>   -0.1726</td> <td>    0.008</td> <td>  -22.169</td> <td> 0.000</td> <td>   -0.188</td> <td>   -0.157</td>\n",
       "</tr>\n",
       "<tr>\n",
       "  <th>x18</th> <td>   -0.1622</td> <td>    0.008</td> <td>  -20.860</td> <td> 0.000</td> <td>   -0.177</td> <td>   -0.147</td>\n",
       "</tr>\n",
       "<tr>\n",
       "  <th>x19</th> <td>   -0.0756</td> <td>    0.008</td> <td>   -9.656</td> <td> 0.000</td> <td>   -0.091</td> <td>   -0.060</td>\n",
       "</tr>\n",
       "<tr>\n",
       "  <th>x20</th> <td>    0.0039</td> <td>    0.008</td> <td>    0.480</td> <td> 0.631</td> <td>   -0.012</td> <td>    0.020</td>\n",
       "</tr>\n",
       "<tr>\n",
       "  <th>x21</th> <td>    0.0605</td> <td>    0.008</td> <td>    7.184</td> <td> 0.000</td> <td>    0.044</td> <td>    0.077</td>\n",
       "</tr>\n",
       "<tr>\n",
       "  <th>x22</th> <td>   -0.0361</td> <td>    0.009</td> <td>   -3.897</td> <td> 0.000</td> <td>   -0.054</td> <td>   -0.018</td>\n",
       "</tr>\n",
       "<tr>\n",
       "  <th>x23</th> <td>   -0.1121</td> <td>    0.010</td> <td>  -11.387</td> <td> 0.000</td> <td>   -0.131</td> <td>   -0.093</td>\n",
       "</tr>\n",
       "<tr>\n",
       "  <th>x24</th> <td>   -0.1118</td> <td>    0.010</td> <td>  -11.123</td> <td> 0.000</td> <td>   -0.132</td> <td>   -0.092</td>\n",
       "</tr>\n",
       "<tr>\n",
       "  <th>x25</th> <td>   -0.0951</td> <td>    0.010</td> <td>   -9.361</td> <td> 0.000</td> <td>   -0.115</td> <td>   -0.075</td>\n",
       "</tr>\n",
       "<tr>\n",
       "  <th>x26</th> <td>   -0.1002</td> <td>    0.010</td> <td>   -9.768</td> <td> 0.000</td> <td>   -0.120</td> <td>   -0.080</td>\n",
       "</tr>\n",
       "<tr>\n",
       "  <th>x27</th> <td>   -0.0996</td> <td>    0.010</td> <td>   -9.722</td> <td> 0.000</td> <td>   -0.120</td> <td>   -0.080</td>\n",
       "</tr>\n",
       "<tr>\n",
       "  <th>x28</th> <td>   -0.0804</td> <td>    0.010</td> <td>   -7.989</td> <td> 0.000</td> <td>   -0.100</td> <td>   -0.061</td>\n",
       "</tr>\n",
       "<tr>\n",
       "  <th>x29</th> <td>   -0.0481</td> <td>    0.010</td> <td>   -4.931</td> <td> 0.000</td> <td>   -0.067</td> <td>   -0.029</td>\n",
       "</tr>\n",
       "<tr>\n",
       "  <th>x30</th> <td>    0.0125</td> <td>    0.009</td> <td>    1.362</td> <td> 0.173</td> <td>   -0.005</td> <td>    0.030</td>\n",
       "</tr>\n",
       "<tr>\n",
       "  <th>x31</th> <td>    0.1191</td> <td>    0.008</td> <td>   14.479</td> <td> 0.000</td> <td>    0.103</td> <td>    0.135</td>\n",
       "</tr>\n",
       "<tr>\n",
       "  <th>x32</th> <td>    0.0905</td> <td>    0.008</td> <td>   11.261</td> <td> 0.000</td> <td>    0.075</td> <td>    0.106</td>\n",
       "</tr>\n",
       "<tr>\n",
       "  <th>x33</th> <td>    0.0831</td> <td>    0.008</td> <td>   10.713</td> <td> 0.000</td> <td>    0.068</td> <td>    0.098</td>\n",
       "</tr>\n",
       "<tr>\n",
       "  <th>x34</th> <td>    0.0975</td> <td>    0.008</td> <td>   12.288</td> <td> 0.000</td> <td>    0.082</td> <td>    0.113</td>\n",
       "</tr>\n",
       "<tr>\n",
       "  <th>x35</th> <td>    0.0700</td> <td>    0.008</td> <td>    8.972</td> <td> 0.000</td> <td>    0.055</td> <td>    0.085</td>\n",
       "</tr>\n",
       "<tr>\n",
       "  <th>x36</th> <td>    0.0130</td> <td>    0.008</td> <td>    1.693</td> <td> 0.090</td> <td>   -0.002</td> <td>    0.028</td>\n",
       "</tr>\n",
       "</table>\n",
       "<table class=\"simpletable\">\n",
       "<tr>\n",
       "  <th>Omnibus:</th>       <td>419.725</td> <th>  Durbin-Watson:     </th> <td>   1.975</td> \n",
       "</tr>\n",
       "<tr>\n",
       "  <th>Prob(Omnibus):</th> <td> 0.000</td>  <th>  Jarque-Bera (JB):  </th> <td> 903.986</td> \n",
       "</tr>\n",
       "<tr>\n",
       "  <th>Skew:</th>          <td>-0.451</td>  <th>  Prob(JB):          </th> <td>5.03e-197</td>\n",
       "</tr>\n",
       "<tr>\n",
       "  <th>Kurtosis:</th>      <td> 4.651</td>  <th>  Cond. No.          </th> <td>    23.8</td> \n",
       "</tr>\n",
       "</table><br/><br/>Notes:<br/>[1] R² is computed without centering (uncentered) since the model does not contain a constant.<br/>[2] Standard Errors assume that the covariance matrix of the errors is correctly specified."
      ],
      "text/latex": [
       "\\begin{center}\n",
       "\\begin{tabular}{lclc}\n",
       "\\toprule\n",
       "\\textbf{Dep. Variable:}    & Rented Bike Count & \\textbf{  R-squared (uncentered):}      &     0.807   \\\\\n",
       "\\textbf{Model:}            &        OLS        & \\textbf{  Adj. R-squared (uncentered):} &     0.806   \\\\\n",
       "\\textbf{Method:}           &   Least Squares   & \\textbf{  F-statistic:       }          &     707.7   \\\\\n",
       "\\textbf{Date:}             &  Wed, 29 Nov 2023 & \\textbf{  Prob (F-statistic):}          &     0.00    \\\\\n",
       "\\textbf{Time:}             &      14:34:30     & \\textbf{  Log-Likelihood:    }          &   -3662.5   \\\\\n",
       "\\textbf{No. Observations:} &         6132      & \\textbf{  AIC:               }          &     7397.   \\\\\n",
       "\\textbf{Df Residuals:}     &         6096      & \\textbf{  BIC:               }          &     7639.   \\\\\n",
       "\\textbf{Df Model:}         &           36      & \\textbf{                     }          &             \\\\\n",
       "\\textbf{Covariance Type:}  &     nonrobust     & \\textbf{                     }          &             \\\\\n",
       "\\bottomrule\n",
       "\\end{tabular}\n",
       "\\begin{tabular}{lcccccc}\n",
       "             & \\textbf{coef} & \\textbf{std err} & \\textbf{t} & \\textbf{P$> |$t$|$} & \\textbf{[0.025} & \\textbf{0.975]}  \\\\\n",
       "\\midrule\n",
       "\\textbf{x1}  &       0.5063  &        0.046     &    10.952  &         0.000        &        0.416    &        0.597     \\\\\n",
       "\\textbf{x2}  &      -0.0502  &        0.023     &    -2.191  &         0.028        &       -0.095    &       -0.005     \\\\\n",
       "\\textbf{x3}  &      -0.0194  &        0.007     &    -2.874  &         0.004        &       -0.033    &       -0.006     \\\\\n",
       "\\textbf{x4}  &       0.0131  &        0.007     &     1.763  &         0.078        &       -0.001    &        0.028     \\\\\n",
       "\\textbf{x5}  &      -0.1734  &        0.053     &    -3.287  &         0.001        &       -0.277    &       -0.070     \\\\\n",
       "\\textbf{x6}  &       0.2249  &        0.017     &    13.325  &         0.000        &        0.192    &        0.258     \\\\\n",
       "\\textbf{x7}  &      -0.2606  &        0.006     &   -41.074  &         0.000        &       -0.273    &       -0.248     \\\\\n",
       "\\textbf{x8}  &      -0.0010  &        0.006     &    -0.169  &         0.866        &       -0.013    &        0.011     \\\\\n",
       "\\textbf{x9}  &       0.0516  &        0.006     &     9.042  &         0.000        &        0.040    &        0.063     \\\\\n",
       "\\textbf{x10} &      -0.1039  &        0.007     &   -13.964  &         0.000        &       -0.118    &       -0.089     \\\\\n",
       "\\textbf{x11} &      -0.0845  &        0.010     &    -8.596  &         0.000        &       -0.104    &       -0.065     \\\\\n",
       "\\textbf{x12} &      -0.2654  &        0.011     &   -25.015  &         0.000        &       -0.286    &       -0.245     \\\\\n",
       "\\textbf{x13} &       0.4645  &        0.006     &    79.227  &         0.000        &        0.453    &        0.476     \\\\\n",
       "\\textbf{x14} &      -0.0427  &        0.008     &    -5.451  &         0.000        &       -0.058    &       -0.027     \\\\\n",
       "\\textbf{x15} &      -0.0905  &        0.008     &   -11.476  &         0.000        &       -0.106    &       -0.075     \\\\\n",
       "\\textbf{x16} &      -0.1207  &        0.008     &   -15.403  &         0.000        &       -0.136    &       -0.105     \\\\\n",
       "\\textbf{x17} &      -0.1726  &        0.008     &   -22.169  &         0.000        &       -0.188    &       -0.157     \\\\\n",
       "\\textbf{x18} &      -0.1622  &        0.008     &   -20.860  &         0.000        &       -0.177    &       -0.147     \\\\\n",
       "\\textbf{x19} &      -0.0756  &        0.008     &    -9.656  &         0.000        &       -0.091    &       -0.060     \\\\\n",
       "\\textbf{x20} &       0.0039  &        0.008     &     0.480  &         0.631        &       -0.012    &        0.020     \\\\\n",
       "\\textbf{x21} &       0.0605  &        0.008     &     7.184  &         0.000        &        0.044    &        0.077     \\\\\n",
       "\\textbf{x22} &      -0.0361  &        0.009     &    -3.897  &         0.000        &       -0.054    &       -0.018     \\\\\n",
       "\\textbf{x23} &      -0.1121  &        0.010     &   -11.387  &         0.000        &       -0.131    &       -0.093     \\\\\n",
       "\\textbf{x24} &      -0.1118  &        0.010     &   -11.123  &         0.000        &       -0.132    &       -0.092     \\\\\n",
       "\\textbf{x25} &      -0.0951  &        0.010     &    -9.361  &         0.000        &       -0.115    &       -0.075     \\\\\n",
       "\\textbf{x26} &      -0.1002  &        0.010     &    -9.768  &         0.000        &       -0.120    &       -0.080     \\\\\n",
       "\\textbf{x27} &      -0.0996  &        0.010     &    -9.722  &         0.000        &       -0.120    &       -0.080     \\\\\n",
       "\\textbf{x28} &      -0.0804  &        0.010     &    -7.989  &         0.000        &       -0.100    &       -0.061     \\\\\n",
       "\\textbf{x29} &      -0.0481  &        0.010     &    -4.931  &         0.000        &       -0.067    &       -0.029     \\\\\n",
       "\\textbf{x30} &       0.0125  &        0.009     &     1.362  &         0.173        &       -0.005    &        0.030     \\\\\n",
       "\\textbf{x31} &       0.1191  &        0.008     &    14.479  &         0.000        &        0.103    &        0.135     \\\\\n",
       "\\textbf{x32} &       0.0905  &        0.008     &    11.261  &         0.000        &        0.075    &        0.106     \\\\\n",
       "\\textbf{x33} &       0.0831  &        0.008     &    10.713  &         0.000        &        0.068    &        0.098     \\\\\n",
       "\\textbf{x34} &       0.0975  &        0.008     &    12.288  &         0.000        &        0.082    &        0.113     \\\\\n",
       "\\textbf{x35} &       0.0700  &        0.008     &     8.972  &         0.000        &        0.055    &        0.085     \\\\\n",
       "\\textbf{x36} &       0.0130  &        0.008     &     1.693  &         0.090        &       -0.002    &        0.028     \\\\\n",
       "\\bottomrule\n",
       "\\end{tabular}\n",
       "\\begin{tabular}{lclc}\n",
       "\\textbf{Omnibus:}       & 419.725 & \\textbf{  Durbin-Watson:     } &     1.975  \\\\\n",
       "\\textbf{Prob(Omnibus):} &   0.000 & \\textbf{  Jarque-Bera (JB):  } &   903.986  \\\\\n",
       "\\textbf{Skew:}          &  -0.451 & \\textbf{  Prob(JB):          } & 5.03e-197  \\\\\n",
       "\\textbf{Kurtosis:}      &   4.651 & \\textbf{  Cond. No.          } &      23.8  \\\\\n",
       "\\bottomrule\n",
       "\\end{tabular}\n",
       "%\\caption{OLS Regression Results}\n",
       "\\end{center}\n",
       "\n",
       "Notes: \\newline\n",
       " [1] R² is computed without centering (uncentered) since the model does not contain a constant. \\newline\n",
       " [2] Standard Errors assume that the covariance matrix of the errors is correctly specified."
      ],
      "text/plain": [
       "<class 'statsmodels.iolib.summary.Summary'>\n",
       "\"\"\"\n",
       "                                 OLS Regression Results                                \n",
       "=======================================================================================\n",
       "Dep. Variable:      Rented Bike Count   R-squared (uncentered):                   0.807\n",
       "Model:                            OLS   Adj. R-squared (uncentered):              0.806\n",
       "Method:                 Least Squares   F-statistic:                              707.7\n",
       "Date:                Wed, 29 Nov 2023   Prob (F-statistic):                        0.00\n",
       "Time:                        14:34:30   Log-Likelihood:                         -3662.5\n",
       "No. Observations:                6132   AIC:                                      7397.\n",
       "Df Residuals:                    6096   BIC:                                      7639.\n",
       "Df Model:                          36                                                  \n",
       "Covariance Type:            nonrobust                                                  \n",
       "==============================================================================\n",
       "                 coef    std err          t      P>|t|      [0.025      0.975]\n",
       "------------------------------------------------------------------------------\n",
       "x1             0.5063      0.046     10.952      0.000       0.416       0.597\n",
       "x2            -0.0502      0.023     -2.191      0.028      -0.095      -0.005\n",
       "x3            -0.0194      0.007     -2.874      0.004      -0.033      -0.006\n",
       "x4             0.0131      0.007      1.763      0.078      -0.001       0.028\n",
       "x5            -0.1734      0.053     -3.287      0.001      -0.277      -0.070\n",
       "x6             0.2249      0.017     13.325      0.000       0.192       0.258\n",
       "x7            -0.2606      0.006    -41.074      0.000      -0.273      -0.248\n",
       "x8            -0.0010      0.006     -0.169      0.866      -0.013       0.011\n",
       "x9             0.0516      0.006      9.042      0.000       0.040       0.063\n",
       "x10           -0.1039      0.007    -13.964      0.000      -0.118      -0.089\n",
       "x11           -0.0845      0.010     -8.596      0.000      -0.104      -0.065\n",
       "x12           -0.2654      0.011    -25.015      0.000      -0.286      -0.245\n",
       "x13            0.4645      0.006     79.227      0.000       0.453       0.476\n",
       "x14           -0.0427      0.008     -5.451      0.000      -0.058      -0.027\n",
       "x15           -0.0905      0.008    -11.476      0.000      -0.106      -0.075\n",
       "x16           -0.1207      0.008    -15.403      0.000      -0.136      -0.105\n",
       "x17           -0.1726      0.008    -22.169      0.000      -0.188      -0.157\n",
       "x18           -0.1622      0.008    -20.860      0.000      -0.177      -0.147\n",
       "x19           -0.0756      0.008     -9.656      0.000      -0.091      -0.060\n",
       "x20            0.0039      0.008      0.480      0.631      -0.012       0.020\n",
       "x21            0.0605      0.008      7.184      0.000       0.044       0.077\n",
       "x22           -0.0361      0.009     -3.897      0.000      -0.054      -0.018\n",
       "x23           -0.1121      0.010    -11.387      0.000      -0.131      -0.093\n",
       "x24           -0.1118      0.010    -11.123      0.000      -0.132      -0.092\n",
       "x25           -0.0951      0.010     -9.361      0.000      -0.115      -0.075\n",
       "x26           -0.1002      0.010     -9.768      0.000      -0.120      -0.080\n",
       "x27           -0.0996      0.010     -9.722      0.000      -0.120      -0.080\n",
       "x28           -0.0804      0.010     -7.989      0.000      -0.100      -0.061\n",
       "x29           -0.0481      0.010     -4.931      0.000      -0.067      -0.029\n",
       "x30            0.0125      0.009      1.362      0.173      -0.005       0.030\n",
       "x31            0.1191      0.008     14.479      0.000       0.103       0.135\n",
       "x32            0.0905      0.008     11.261      0.000       0.075       0.106\n",
       "x33            0.0831      0.008     10.713      0.000       0.068       0.098\n",
       "x34            0.0975      0.008     12.288      0.000       0.082       0.113\n",
       "x35            0.0700      0.008      8.972      0.000       0.055       0.085\n",
       "x36            0.0130      0.008      1.693      0.090      -0.002       0.028\n",
       "==============================================================================\n",
       "Omnibus:                      419.725   Durbin-Watson:                   1.975\n",
       "Prob(Omnibus):                  0.000   Jarque-Bera (JB):              903.986\n",
       "Skew:                          -0.451   Prob(JB):                    5.03e-197\n",
       "Kurtosis:                       4.651   Cond. No.                         23.8\n",
       "==============================================================================\n",
       "\n",
       "Notes:\n",
       "[1] R² is computed without centering (uncentered) since the model does not contain a constant.\n",
       "[2] Standard Errors assume that the covariance matrix of the errors is correctly specified.\n",
       "\"\"\""
      ]
     },
     "execution_count": 14,
     "metadata": {},
     "output_type": "execute_result"
    }
   ],
   "source": [
    "import statsmodels.api as sm\n",
    "lin_reg=sm.OLS(y_train,X_train).fit()\n",
    "lin_reg.summary()"
   ]
  },
  {
   "cell_type": "markdown",
   "metadata": {},
   "source": [
    "Wir können die Prognose auch visualisieren:"
   ]
  },
  {
   "cell_type": "code",
   "execution_count": 16,
   "metadata": {},
   "outputs": [
    {
     "data": {
      "image/png": "[encoded data removed]",
      "text/plain": [
       "<Figure size 864x432 with 1 Axes>"
      ]
     },
     "metadata": {
      "needs_background": "light"
     },
     "output_type": "display_data"
    }
   ],
   "source": [
    "import matplotlib.pyplot as plt\n",
    "\n",
    "# Now we need to reverse the one-hot encoding to get the hour for each sample in X_test\n",
    "# This function assumes that the hour columns are the last 24 columns of X_test\n",
    "def reverse_one_hot(hour_data):\n",
    "    hour_indices = hour_data[:, -24:]  # Extracting only the one-hot encoded hours\n",
    "    hours = np.argmax(hour_indices, axis=1)  # The index will correspond to the hour\n",
    "    return hours\n",
    "\n",
    "# Apply the function to the test set\n",
    "X_test_hours = reverse_one_hot(X_test)\n",
    "\n",
    "\n",
    "# Now we create a DataFrame for plotting\n",
    "df_plot = pd.DataFrame({\n",
    "    'Hour': X_test_hours,\n",
    "    'Actual': y_test,\n",
    "    'Predicted': y_pred\n",
    "})\n",
    "\n",
    "# Group by the hour and calculate the mean for the actual and predicted values\n",
    "df_grouped = df_plot.groupby('Hour').agg({'Actual': 'mean', 'Predicted': 'mean'}).reset_index()\n",
    "\n",
    "# Plotting\n",
    "plt.figure(figsize=(12, 6))\n",
    "\n",
    "# Plot the actual counts as bars\n",
    "plt.bar(df_grouped['Hour'], df_grouped['Actual'], color='gold', label='Actual', alpha=0.7)\n",
    "\n",
    "# Plot the predicted counts as a line\n",
    "plt.plot(df_grouped['Hour'], df_grouped['Predicted'], color='black', label='Predicted', marker='o', linestyle='-', linewidth=2)\n",
    "\n",
    "# Adding titles and labels\n",
    "plt.title('Actual vs Predicted Rented Bike Counts by Hour (using a linear model)')\n",
    "plt.xlabel('Hour of the Day')\n",
    "plt.ylabel('Rented Bike Count')\n",
    "plt.xticks(ticks=np.arange(24))  # Ensure we have all 24 hours as x-ticks\n",
    "plt.legend()\n",
    "plt.show()\n",
    "\n",
    "\n"
   ]
  },
  {
   "cell_type": "markdown",
   "metadata": {},
   "source": [
    "### Polynomregression\n",
    "\n",
    "Die Polynomregression ist eine fortgeschrittene Version der linearen Regressionen. Wir können mit dieser Methode auch nichtlineare Abhängigkeiten abbilden."
   ]
  },
  {
   "cell_type": "code",
   "execution_count": 17,
   "metadata": {},
   "outputs": [
    {
     "name": "stdout",
     "output_type": "stream",
     "text": [
      "Model R-Square : 88.88%\n",
      "Model MSE : 11.07%\n",
      "Cross Val Accuracy: 80.38 %\n",
      "Cross Val Standard Deviation: 0.60 %\n"
     ]
    }
   ],
   "source": [
    "poly_reg=PolynomialFeatures(degree=2)\n",
    "model=LinearRegression()\n",
    "model.fit(poly_reg.fit_transform(X_train),y_train)\n",
    "y_pred=model.predict(poly_reg.fit_transform(X_test))\n",
    "print(f\"Model R-Square : {r2_score(y_test,y_pred)*100:.2f}%\")\n",
    "print(f\"Model MSE : {mean_squared_error(y_test,y_pred)*100:.2f}%\")\n",
    "accuracies = cross_val_score(estimator = model, X = X_train, y = y_train, cv = 5)\n",
    "print(\"Cross Val Accuracy: {:.2f} %\".format(accuracies.mean()*100))\n",
    "print(\"Cross Val Standard Deviation: {:.2f} %\".format(accuracies.std()*100))\n",
    "model_comparison['Polynomial Regression']=[r2_score(y_test,y_pred),mean_squared_error(y_test,y_pred),(accuracies.mean()),(accuracies.std())]"
   ]
  },
  {
   "cell_type": "markdown",
   "metadata": {},
   "source": [
    "Auch hier können wir die Prognose visualisieren:\n",
    "\n"
   ]
  },
  {
   "cell_type": "code",
   "execution_count": null,
   "metadata": {},
   "outputs": [],
   "source": [
    "import matplotlib.pyplot as plt\n",
    "\n",
    "# Now we need to reverse the one-hot encoding to get the hour for each sample in X_test\n",
    "# This function assumes that the hour columns are the last 24 columns of X_test\n",
    "def reverse_one_hot(hour_data):\n",
    "    hour_indices = hour_data[:, -24:]  # Extracting only the one-hot encoded hours\n",
    "    hours = np.argmax(hour_indices, axis=1)  # The index will correspond to the hour\n",
    "    return hours\n",
    "\n",
    "# Apply the function to the test set\n",
    "X_test_hours = reverse_one_hot(X_test)\n",
    "\n",
    "\n",
    "# Now we create a DataFrame for plotting\n",
    "df_plot = pd.DataFrame({\n",
    "    'Hour': X_test_hours,\n",
    "    'Actual': y_test,\n",
    "    'Predicted': y_pred\n",
    "})\n",
    "\n",
    "# Group by the hour and calculate the mean for the actual and predicted values\n",
    "df_grouped = df_plot.groupby('Hour').agg({'Actual': 'mean', 'Predicted': 'mean'}).reset_index()\n",
    "\n",
    "# Plotting\n",
    "plt.figure(figsize=(12, 6))\n",
    "\n",
    "# Plot the actual counts as bars\n",
    "plt.bar(df_grouped['Hour'], df_grouped['Actual'], color='gold', label='Actual', alpha=0.7)\n",
    "\n",
    "# Plot the predicted counts as a line\n",
    "plt.plot(df_grouped['Hour'], df_grouped['Predicted'], color='black', label='Predicted', marker='o', linestyle='-', linewidth=2)\n",
    "\n",
    "# Adding titles and labels\n",
    "plt.title('Actual vs Predicted Rented Bike Counts by Hour (using a linear model)')\n",
    "plt.xlabel('Hour of the Day')\n",
    "plt.ylabel('Rented Bike Count')\n",
    "plt.xticks(ticks=np.arange(24))  # Ensure we have all 24 hours as x-ticks\n",
    "plt.legend()\n",
    "plt.show()"
   ]
  },
  {
   "cell_type": "markdown",
   "metadata": {},
   "source": [
    "### Decision Trees \n",
    "\n",
    "Entscheidungsbäume / Decision Trees ist im Unterschied zur linearen oder Polynomregression ein non-parametrisches Modell. Dies bedeutet, dass wir die Abhängigkeitsstruktur direkt aus den Daten schätzen und nicht vorgeben."
   ]
  },
  {
   "cell_type": "code",
   "execution_count": 18,
   "metadata": {},
   "outputs": [
    {
     "name": "stdout",
     "output_type": "stream",
     "text": [
      "Model R-Square : 79.20%\n",
      "Model MSE : 20.72%\n",
      "Cross Val Accuracy: 80.05 %\n",
      "Cross Val Standard Deviation: 1.57 %\n"
     ]
    }
   ],
   "source": [
    "model=DecisionTreeRegressor()\n",
    "model.fit(X_train,y_train)\n",
    "y_pred=model.predict(X_test)\n",
    "print(f\"Model R-Square : {r2_score(y_test,y_pred)*100:.2f}%\")\n",
    "print(f\"Model MSE : {mean_squared_error(y_test,y_pred)*100:.2f}%\")\n",
    "accuracies = cross_val_score(estimator = model, X = X_train, y = y_train, cv = 5)\n",
    "print(\"Cross Val Accuracy: {:.2f} %\".format(accuracies.mean()*100))\n",
    "print(\"Cross Val Standard Deviation: {:.2f} %\".format(accuracies.std()*100))\n",
    "model_comparison['Decision Tree Regression']=[r2_score(y_test,y_pred),mean_squared_error(y_test,y_pred),(accuracies.mean()),(accuracies.std())]"
   ]
  },
  {
   "cell_type": "code",
   "execution_count": null,
   "metadata": {},
   "outputs": [],
   "source": [
    "Wir visualisieren die Schätzung unseres Decision Trees-Modells."
   ]
  },
  {
   "cell_type": "code",
   "execution_count": null,
   "metadata": {},
   "outputs": [],
   "source": [
    "import matplotlib.pyplot as plt\n",
    "\n",
    "# Now we need to reverse the one-hot encoding to get the hour for each sample in X_test\n",
    "# This function assumes that the hour columns are the last 24 columns of X_test\n",
    "def reverse_one_hot(hour_data):\n",
    "    hour_indices = hour_data[:, -24:]  # Extracting only the one-hot encoded hours\n",
    "    hours = np.argmax(hour_indices, axis=1)  # The index will correspond to the hour\n",
    "    return hours\n",
    "\n",
    "# Apply the function to the test set\n",
    "X_test_hours = reverse_one_hot(X_test)\n",
    "\n",
    "\n",
    "# Now we create a DataFrame for plotting\n",
    "df_plot = pd.DataFrame({\n",
    "    'Hour': X_test_hours,\n",
    "    'Actual': y_test,\n",
    "    'Predicted': y_pred\n",
    "})\n",
    "\n",
    "# Group by the hour and calculate the mean for the actual and predicted values\n",
    "df_grouped = df_plot.groupby('Hour').agg({'Actual': 'mean', 'Predicted': 'mean'}).reset_index()\n",
    "\n",
    "# Plotting\n",
    "plt.figure(figsize=(12, 6))\n",
    "\n",
    "# Plot the actual counts as bars\n",
    "plt.bar(df_grouped['Hour'], df_grouped['Actual'], color='gold', label='Actual', alpha=0.7)\n",
    "\n",
    "# Plot the predicted counts as a line\n",
    "plt.plot(df_grouped['Hour'], df_grouped['Predicted'], color='black', label='Predicted', marker='o', linestyle='-', linewidth=2)\n",
    "\n",
    "# Adding titles and labels\n",
    "plt.title('Actual vs Predicted Rented Bike Counts by Hour (using a linear model)')\n",
    "plt.xlabel('Hour of the Day')\n",
    "plt.ylabel('Rented Bike Count')\n",
    "plt.xticks(ticks=np.arange(24))  # Ensure we have all 24 hours as x-ticks\n",
    "plt.legend()\n",
    "plt.show()"
   ]
  },
  {
   "cell_type": "markdown",
   "metadata": {},
   "source": [
    "### Random Forests\n",
    "\n",
    "Random Forests sind eine fortgeschrittene Version der Decision Trees. "
   ]
  },
  {
   "cell_type": "code",
   "execution_count": 19,
   "metadata": {},
   "outputs": [
    {
     "name": "stdout",
     "output_type": "stream",
     "text": [
      "Model R-Square : 87.40%\n",
      "Model MSE : 12.56%\n",
      "Cross Val Accuracy: 88.31 %\n",
      "Cross Val Standard Deviation: 0.73 %\n"
     ]
    }
   ],
   "source": [
    "model=RandomForestRegressor(n_estimators=10,random_state=0)\n",
    "model.fit(X_train,y_train)\n",
    "y_pred=model.predict(X_test)\n",
    "print(f\"Model R-Square : {r2_score(y_test,y_pred)*100:.2f}%\")\n",
    "print(f\"Model MSE : {mean_squared_error(y_test,y_pred)*100:.2f}%\")\n",
    "accuracies = cross_val_score(estimator = model, X = X_train, y = y_train, cv = 5)\n",
    "print(\"Cross Val Accuracy: {:.2f} %\".format(accuracies.mean()*100))\n",
    "print(\"Cross Val Standard Deviation: {:.2f} %\".format(accuracies.std()*100))\n",
    "model_comparison['Random forest Regression']=[r2_score(y_test,y_pred),mean_squared_error(y_test,y_pred),(accuracies.mean()),(accuracies.std())]"
   ]
  },
  {
   "cell_type": "markdown",
   "metadata": {},
   "source": [
    "Auch hier visualiseren wir die Prognosen des Modells"
   ]
  },
  {
   "cell_type": "code",
   "execution_count": null,
   "metadata": {},
   "outputs": [],
   "source": [
    "import matplotlib.pyplot as plt\n",
    "\n",
    "# Now we need to reverse the one-hot encoding to get the hour for each sample in X_test\n",
    "# This function assumes that the hour columns are the last 24 columns of X_test\n",
    "def reverse_one_hot(hour_data):\n",
    "    hour_indices = hour_data[:, -24:]  # Extracting only the one-hot encoded hours\n",
    "    hours = np.argmax(hour_indices, axis=1)  # The index will correspond to the hour\n",
    "    return hours\n",
    "\n",
    "# Apply the function to the test set\n",
    "X_test_hours = reverse_one_hot(X_test)\n",
    "\n",
    "\n",
    "# Now we create a DataFrame for plotting\n",
    "df_plot = pd.DataFrame({\n",
    "    'Hour': X_test_hours,\n",
    "    'Actual': y_test,\n",
    "    'Predicted': y_pred\n",
    "})\n",
    "\n",
    "# Group by the hour and calculate the mean for the actual and predicted values\n",
    "df_grouped = df_plot.groupby('Hour').agg({'Actual': 'mean', 'Predicted': 'mean'}).reset_index()\n",
    "\n",
    "# Plotting\n",
    "plt.figure(figsize=(12, 6))\n",
    "\n",
    "# Plot the actual counts as bars\n",
    "plt.bar(df_grouped['Hour'], df_grouped['Actual'], color='gold', label='Actual', alpha=0.7)\n",
    "\n",
    "# Plot the predicted counts as a line\n",
    "plt.plot(df_grouped['Hour'], df_grouped['Predicted'], color='black', label='Predicted', marker='o', linestyle='-', linewidth=2)\n",
    "\n",
    "# Adding titles and labels\n",
    "plt.title('Actual vs Predicted Rented Bike Counts by Hour (using a linear model)')\n",
    "plt.xlabel('Hour of the Day')\n",
    "plt.ylabel('Rented Bike Count')\n",
    "plt.xticks(ticks=np.arange(24))  # Ensure we have all 24 hours as x-ticks\n",
    "plt.legend()\n",
    "plt.show()"
   ]
  },
  {
   "cell_type": "markdown",
   "metadata": {},
   "source": [
    "## Modellvergleich"
   ]
  },
  {
   "cell_type": "code",
   "execution_count": 20,
   "metadata": {},
   "outputs": [
    {
     "data": {
      "text/html": [
       "<style type=\"text/css\">\n",
       "#T_a5ecc_row0_col0, #T_a5ecc_row1_col2, #T_a5ecc_row3_col1, #T_a5ecc_row3_col3 {\n",
       "  background-color: #a50026;\n",
       "  color: #f1f1f1;\n",
       "}\n",
       "#T_a5ecc_row0_col1, #T_a5ecc_row0_col3, #T_a5ecc_row2_col3, #T_a5ecc_row3_col0, #T_a5ecc_row3_col2 {\n",
       "  background-color: #313695;\n",
       "  color: #f1f1f1;\n",
       "}\n",
       "#T_a5ecc_row0_col2, #T_a5ecc_row2_col2 {\n",
       "  background-color: #394fa1;\n",
       "  color: #f1f1f1;\n",
       "}\n",
       "#T_a5ecc_row1_col0 {\n",
       "  background-color: #e65036;\n",
       "  color: #f1f1f1;\n",
       "}\n",
       "#T_a5ecc_row1_col1 {\n",
       "  background-color: #5e93c3;\n",
       "  color: #f1f1f1;\n",
       "}\n",
       "#T_a5ecc_row1_col3 {\n",
       "  background-color: #5183bb;\n",
       "  color: #f1f1f1;\n",
       "}\n",
       "#T_a5ecc_row2_col0 {\n",
       "  background-color: #659bc8;\n",
       "  color: #f1f1f1;\n",
       "}\n",
       "#T_a5ecc_row2_col1 {\n",
       "  background-color: #eb5a3a;\n",
       "  color: #f1f1f1;\n",
       "}\n",
       "</style>\n",
       "<table id=\"T_a5ecc\">\n",
       "  <thead>\n",
       "    <tr>\n",
       "      <th class=\"blank level0\" >&nbsp;</th>\n",
       "      <th id=\"T_a5ecc_level0_col0\" class=\"col_heading level0 col0\" >R-Square</th>\n",
       "      <th id=\"T_a5ecc_level0_col1\" class=\"col_heading level0 col1\" >MSE</th>\n",
       "      <th id=\"T_a5ecc_level0_col2\" class=\"col_heading level0 col2\" >CV Accuracy</th>\n",
       "      <th id=\"T_a5ecc_level0_col3\" class=\"col_heading level0 col3\" >CV std</th>\n",
       "    </tr>\n",
       "  </thead>\n",
       "  <tbody>\n",
       "    <tr>\n",
       "      <th id=\"T_a5ecc_level0_row0\" class=\"row_heading level0 row0\" >Polynomial Regression</th>\n",
       "      <td id=\"T_a5ecc_row0_col0\" class=\"data row0 col0\" >88.88%</td>\n",
       "      <td id=\"T_a5ecc_row0_col1\" class=\"data row0 col1\" >11.07%</td>\n",
       "      <td id=\"T_a5ecc_row0_col2\" class=\"data row0 col2\" >80.38%</td>\n",
       "      <td id=\"T_a5ecc_row0_col3\" class=\"data row0 col3\" >0.60%</td>\n",
       "    </tr>\n",
       "    <tr>\n",
       "      <th id=\"T_a5ecc_level0_row1\" class=\"row_heading level0 row1\" >Random forest Regression</th>\n",
       "      <td id=\"T_a5ecc_row1_col0\" class=\"data row1 col0\" >87.40%</td>\n",
       "      <td id=\"T_a5ecc_row1_col1\" class=\"data row1 col1\" >12.56%</td>\n",
       "      <td id=\"T_a5ecc_row1_col2\" class=\"data row1 col2\" >88.31%</td>\n",
       "      <td id=\"T_a5ecc_row1_col3\" class=\"data row1 col3\" >0.73%</td>\n",
       "    </tr>\n",
       "    <tr>\n",
       "      <th id=\"T_a5ecc_level0_row2\" class=\"row_heading level0 row2\" >Linear Regression</th>\n",
       "      <td id=\"T_a5ecc_row2_col0\" class=\"data row2 col0\" >80.83%</td>\n",
       "      <td id=\"T_a5ecc_row2_col1\" class=\"data row2 col1\" >19.10%</td>\n",
       "      <td id=\"T_a5ecc_row2_col2\" class=\"data row2 col2\" >80.38%</td>\n",
       "      <td id=\"T_a5ecc_row2_col3\" class=\"data row2 col3\" >0.60%</td>\n",
       "    </tr>\n",
       "    <tr>\n",
       "      <th id=\"T_a5ecc_level0_row3\" class=\"row_heading level0 row3\" >Decision Tree Regression</th>\n",
       "      <td id=\"T_a5ecc_row3_col0\" class=\"data row3 col0\" >79.20%</td>\n",
       "      <td id=\"T_a5ecc_row3_col1\" class=\"data row3 col1\" >20.72%</td>\n",
       "      <td id=\"T_a5ecc_row3_col2\" class=\"data row3 col2\" >80.05%</td>\n",
       "      <td id=\"T_a5ecc_row3_col3\" class=\"data row3 col3\" >1.57%</td>\n",
       "    </tr>\n",
       "  </tbody>\n",
       "</table>\n"
      ],
      "text/plain": [
       "<pandas.io.formats.style.Styler at 0x1d592262940>"
      ]
     },
     "execution_count": 20,
     "metadata": {},
     "output_type": "execute_result"
    }
   ],
   "source": [
    "Model_com_df=pd.DataFrame(model_comparison).T\n",
    "Model_com_df.columns=['R-Square','MSE','CV Accuracy','CV std']\n",
    "Model_com_df=Model_com_df.sort_values(by='R-Square',ascending=False)\n",
    "Model_com_df.style.format(\"{:.2%}\").background_gradient(cmap='RdYlBu_r')"
   ]
  },
  {
   "cell_type": "markdown",
   "metadata": {},
   "source": [
    "Beste Werte in jeder Spalte"
   ]
  },
  {
   "cell_type": "code",
   "execution_count": 21,
   "metadata": {},
   "outputs": [
    {
     "data": {
      "text/html": [
       "<style type=\"text/css\">\n",
       "#T_10179_row0_col0, #T_10179_row1_col2, #T_10179_row3_col1, #T_10179_row3_col3 {\n",
       "  background-color: yellow;\n",
       "}\n",
       "</style>\n",
       "<table id=\"T_10179\">\n",
       "  <caption>Maximum Score in each Column</caption>\n",
       "  <thead>\n",
       "    <tr>\n",
       "      <th class=\"blank level0\" >&nbsp;</th>\n",
       "      <th id=\"T_10179_level0_col0\" class=\"col_heading level0 col0\" >R-Square</th>\n",
       "      <th id=\"T_10179_level0_col1\" class=\"col_heading level0 col1\" >MSE</th>\n",
       "      <th id=\"T_10179_level0_col2\" class=\"col_heading level0 col2\" >CV Accuracy</th>\n",
       "      <th id=\"T_10179_level0_col3\" class=\"col_heading level0 col3\" >CV std</th>\n",
       "    </tr>\n",
       "  </thead>\n",
       "  <tbody>\n",
       "    <tr>\n",
       "      <th id=\"T_10179_level0_row0\" class=\"row_heading level0 row0\" >Polynomial Regression</th>\n",
       "      <td id=\"T_10179_row0_col0\" class=\"data row0 col0\" >88.88%</td>\n",
       "      <td id=\"T_10179_row0_col1\" class=\"data row0 col1\" >11.07%</td>\n",
       "      <td id=\"T_10179_row0_col2\" class=\"data row0 col2\" >80.38%</td>\n",
       "      <td id=\"T_10179_row0_col3\" class=\"data row0 col3\" >0.60%</td>\n",
       "    </tr>\n",
       "    <tr>\n",
       "      <th id=\"T_10179_level0_row1\" class=\"row_heading level0 row1\" >Random forest Regression</th>\n",
       "      <td id=\"T_10179_row1_col0\" class=\"data row1 col0\" >87.40%</td>\n",
       "      <td id=\"T_10179_row1_col1\" class=\"data row1 col1\" >12.56%</td>\n",
       "      <td id=\"T_10179_row1_col2\" class=\"data row1 col2\" >88.31%</td>\n",
       "      <td id=\"T_10179_row1_col3\" class=\"data row1 col3\" >0.73%</td>\n",
       "    </tr>\n",
       "    <tr>\n",
       "      <th id=\"T_10179_level0_row2\" class=\"row_heading level0 row2\" >Linear Regression</th>\n",
       "      <td id=\"T_10179_row2_col0\" class=\"data row2 col0\" >80.83%</td>\n",
       "      <td id=\"T_10179_row2_col1\" class=\"data row2 col1\" >19.10%</td>\n",
       "      <td id=\"T_10179_row2_col2\" class=\"data row2 col2\" >80.38%</td>\n",
       "      <td id=\"T_10179_row2_col3\" class=\"data row2 col3\" >0.60%</td>\n",
       "    </tr>\n",
       "    <tr>\n",
       "      <th id=\"T_10179_level0_row3\" class=\"row_heading level0 row3\" >Decision Tree Regression</th>\n",
       "      <td id=\"T_10179_row3_col0\" class=\"data row3 col0\" >79.20%</td>\n",
       "      <td id=\"T_10179_row3_col1\" class=\"data row3 col1\" >20.72%</td>\n",
       "      <td id=\"T_10179_row3_col2\" class=\"data row3 col2\" >80.05%</td>\n",
       "      <td id=\"T_10179_row3_col3\" class=\"data row3 col3\" >1.57%</td>\n",
       "    </tr>\n",
       "  </tbody>\n",
       "</table>\n"
      ],
      "text/plain": [
       "<pandas.io.formats.style.Styler at 0x1d5922629a0>"
      ]
     },
     "execution_count": 21,
     "metadata": {},
     "output_type": "execute_result"
    }
   ],
   "source": [
    "Model_com_df.style.highlight_max().set_caption(\"Maximum Score in each Column\").format(\"{:.2%}\")"
   ]
  },
  {
   "cell_type": "markdown",
   "metadata": {},
   "source": [
    "Schlechteste Werte in jeder Spalte:"
   ]
  },
  {
   "cell_type": "code",
   "execution_count": 22,
   "metadata": {},
   "outputs": [
    {
     "data": {
      "text/html": [
       "<style type=\"text/css\">\n",
       "#T_f920f_row0_col1, #T_f920f_row0_col3, #T_f920f_row2_col3, #T_f920f_row3_col0, #T_f920f_row3_col2 {\n",
       "  background-color: yellow;\n",
       "}\n",
       "</style>\n",
       "<table id=\"T_f920f\">\n",
       "  <caption>Minimum Score in each Column</caption>\n",
       "  <thead>\n",
       "    <tr>\n",
       "      <th class=\"blank level0\" >&nbsp;</th>\n",
       "      <th id=\"T_f920f_level0_col0\" class=\"col_heading level0 col0\" >R-Square</th>\n",
       "      <th id=\"T_f920f_level0_col1\" class=\"col_heading level0 col1\" >MSE</th>\n",
       "      <th id=\"T_f920f_level0_col2\" class=\"col_heading level0 col2\" >CV Accuracy</th>\n",
       "      <th id=\"T_f920f_level0_col3\" class=\"col_heading level0 col3\" >CV std</th>\n",
       "    </tr>\n",
       "  </thead>\n",
       "  <tbody>\n",
       "    <tr>\n",
       "      <th id=\"T_f920f_level0_row0\" class=\"row_heading level0 row0\" >Polynomial Regression</th>\n",
       "      <td id=\"T_f920f_row0_col0\" class=\"data row0 col0\" >88.88%</td>\n",
       "      <td id=\"T_f920f_row0_col1\" class=\"data row0 col1\" >11.07%</td>\n",
       "      <td id=\"T_f920f_row0_col2\" class=\"data row0 col2\" >80.38%</td>\n",
       "      <td id=\"T_f920f_row0_col3\" class=\"data row0 col3\" >0.60%</td>\n",
       "    </tr>\n",
       "    <tr>\n",
       "      <th id=\"T_f920f_level0_row1\" class=\"row_heading level0 row1\" >Random forest Regression</th>\n",
       "      <td id=\"T_f920f_row1_col0\" class=\"data row1 col0\" >87.40%</td>\n",
       "      <td id=\"T_f920f_row1_col1\" class=\"data row1 col1\" >12.56%</td>\n",
       "      <td id=\"T_f920f_row1_col2\" class=\"data row1 col2\" >88.31%</td>\n",
       "      <td id=\"T_f920f_row1_col3\" class=\"data row1 col3\" >0.73%</td>\n",
       "    </tr>\n",
       "    <tr>\n",
       "      <th id=\"T_f920f_level0_row2\" class=\"row_heading level0 row2\" >Linear Regression</th>\n",
       "      <td id=\"T_f920f_row2_col0\" class=\"data row2 col0\" >80.83%</td>\n",
       "      <td id=\"T_f920f_row2_col1\" class=\"data row2 col1\" >19.10%</td>\n",
       "      <td id=\"T_f920f_row2_col2\" class=\"data row2 col2\" >80.38%</td>\n",
       "      <td id=\"T_f920f_row2_col3\" class=\"data row2 col3\" >0.60%</td>\n",
       "    </tr>\n",
       "    <tr>\n",
       "      <th id=\"T_f920f_level0_row3\" class=\"row_heading level0 row3\" >Decision Tree Regression</th>\n",
       "      <td id=\"T_f920f_row3_col0\" class=\"data row3 col0\" >79.20%</td>\n",
       "      <td id=\"T_f920f_row3_col1\" class=\"data row3 col1\" >20.72%</td>\n",
       "      <td id=\"T_f920f_row3_col2\" class=\"data row3 col2\" >80.05%</td>\n",
       "      <td id=\"T_f920f_row3_col3\" class=\"data row3 col3\" >1.57%</td>\n",
       "    </tr>\n",
       "  </tbody>\n",
       "</table>\n"
      ],
      "text/plain": [
       "<pandas.io.formats.style.Styler at 0x1d59487abe0>"
      ]
     },
     "execution_count": 22,
     "metadata": {},
     "output_type": "execute_result"
    }
   ],
   "source": [
    "Model_com_df.style.highlight_min().set_caption(\"Minimum Score in each Column\").format(\"{:.2%}\")"
   ]
  },
  {
   "cell_type": "markdown",
   "metadata": {},
   "source": [
    "## Auswertung des Modells\n",
    "\n",
    "Wir sehen nun, dass wir mithilfe dieser Methoden relativ genaue Schätzungen der Nachfrage erhalten können. Wir sehen auch, dass komplexere Modelle nicht unbedingt zu einer besseren Out-of-Sample-Performance führen. \n",
    "\n",
    "In einem nächsten Schritt könnten wir diese Modelle nun nutzen, um die zukünftige Nachfrage zu schätzen. "
   ]
  },
  {
   "cell_type": "markdown",
   "metadata": {},
   "source": [
    "## Appendix\n",
    "\n",
    "Zusätzliche Informationen und Auswertungen. "
   ]
  }
 ],
 "metadata": {
  "kernelspec": {
   "display_name": "Python 3",
   "language": "python",
   "name": "python3"
  },
  "language_info": {
   "codemirror_mode": {
    "name": "ipython",
    "version": 3
   },
   "file_extension": ".py",
   "mimetype": "text/x-python",
   "name": "python",
   "nbconvert_exporter": "python",
   "pygments_lexer": "ipython3",
   "version": "3.9.13"
  }
 },
 "nbformat": 4,
 "nbformat_minor": 2
}
