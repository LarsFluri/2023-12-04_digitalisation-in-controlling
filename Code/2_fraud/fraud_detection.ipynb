{
 "cells": [
  {
   "cell_type": "markdown",
   "metadata": {},
   "source": [
    "# Using benfords Law for fraud detection\n",
    "\n",
    "In unserem zweiten Kapitel der Vorlesung wenden wir Benfords Law an, um mögliche Betrugsversuche zu entdecken. \n",
    "\n",
    "Wie bereits besprochen, analysieren wir mit Benfords Law die Verteilung an ersten Ziffern. Diese sollten mit einer gewissen vorbeschriebenen Häufigkeit auftreten.\n",
    "\n",
    "Einige spannende Beispiele zur Anwendung finden Sie hier: https://testingbenfordslaw.com/linux-filesizes\n",
    "\n",
    "Wir möchten heute versuchen, Finanzbetrug mithilfe dieser Gesetzmässigkeit zu entdecken. \n",
    "\n",
    "Hierfür verwenden wir die Daten der American Unversity of Paris 990 Tax Returns als Referenzmaterial. "
   ]
  },
  {
   "cell_type": "code",
   "execution_count": null,
   "metadata": {
    "vscode": {
     "languageId": "plaintext"
    }
   },
   "outputs": [],
   "source": []
  }
 ],
 "metadata": {
  "language_info": {
   "name": "python"
  }
 },
 "nbformat": 4,
 "nbformat_minor": 2
}
